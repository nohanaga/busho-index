{
 "cells": [
  {
   "cell_type": "markdown",
   "id": "fcb44f56",
   "metadata": {},
   "source": [
    "# 検索クエリーのサンプル\n",
    "\n",
    "Azure Cognitive Search の様々な検索機能を試すことができます。\n",
    "1. フルテキスト検索\n",
    "1. ベクトル検索\n",
    "1. ハイブリッド検索（フルテキスト＋ベクトル）\n",
    "1. セマンティックハイブリッド検索（ハイブリッド＋セマンティックランカー）\n"
   ]
  },
  {
   "cell_type": "code",
   "execution_count": null,
   "id": "a01b97bd",
   "metadata": {},
   "outputs": [],
   "source": [
    "#!pip install azure-search-documents --pre"
   ]
  },
  {
   "cell_type": "code",
   "execution_count": null,
   "id": "52a09ba8",
   "metadata": {},
   "outputs": [],
   "source": [
    "import openai\n",
    "from azure.search.documents import SearchClient\n",
    "from azure.search.documents.models import Vector  \n",
    "from azure.core.credentials import AzureKeyCredential"
   ]
  },
  {
   "cell_type": "code",
   "execution_count": null,
   "id": "e31e3365",
   "metadata": {},
   "outputs": [],
   "source": [
    "openai.api_type = \"azure\"  \n",
    "openai.api_key = \"<YOUR_AZURE_OPENAI_KEY\"\n",
    "openai.api_base = \"https://<YOUR_AZURE_OPENAI_SERVICE>.openai.azure.com/\"\n",
    "openai.api_version = \"2023-05-15\"  \n",
    "\n",
    "service_endpoint = \"https://<YOUR_AZURE_COGNITIVE_SEARCH_SERVICE>.search.windows.net\"\n",
    "index_name = \"<YOUR_AZURE_COGNITIVE_SEARCH_INDEX>\"\n",
    "key = \"<YOUR_AZURE_COGNITIVE_SEARCH_APIKEY>\"\n",
    "credential = AzureKeyCredential(key)"
   ]
  },
  {
   "cell_type": "markdown",
   "id": "6f064923",
   "metadata": {},
   "source": [
    "# Full Text Search"
   ]
  },
  {
   "cell_type": "code",
   "execution_count": null,
   "id": "be6d77eb",
   "metadata": {},
   "outputs": [],
   "source": [
    "query = \"三浦義澄ってなにした人\"  \n",
    "  \n",
    "search_client = SearchClient(service_endpoint, index_name, credential=credential)\n",
    "\n",
    "results = search_client.search(  \n",
    "    search_text=query,\n",
    "    select=[\"sourcepage\", \"content\"],\n",
    "    top=3\n",
    ")  \n",
    "  \n",
    "for result in results:  \n",
    "    print(f\"Sourcepage: {result['sourcepage']}\")  \n",
    "    print(f\"Score: {result['@search.score']}\")  \n",
    "    print(f\"Content: {result['content']}\")  "
   ]
  },
  {
   "cell_type": "markdown",
   "id": "4c355596",
   "metadata": {},
   "source": [
    "# Vector Search"
   ]
  },
  {
   "cell_type": "code",
   "execution_count": null,
   "id": "4f97cd42",
   "metadata": {},
   "outputs": [],
   "source": [
    "def generate_embeddings(text):\n",
    "    response = openai.Embedding.create(\n",
    "        input=text, engine=\"text-embedding-ada-002\")\n",
    "    embeddings = response['data'][0]['embedding']\n",
    "    return embeddings"
   ]
  },
  {
   "cell_type": "code",
   "execution_count": null,
   "id": "dcbe067e",
   "metadata": {
    "scrolled": false
   },
   "outputs": [],
   "source": [
    "query = \"源実友のお歌にはどのような特徴があったのでしょうか？\"  \n",
    "  \n",
    "search_client = SearchClient(service_endpoint, index_name, credential=credential)\n",
    "vector = Vector(value=generate_embeddings(query), k=3, fields=\"contentVector\")\n",
    "\n",
    "results = search_client.search(  \n",
    "    search_text=None,  \n",
    "    vectors=[vector],\n",
    "    select=[\"sourcepage\", \"content\"]\n",
    ")  \n",
    "  \n",
    "for result in results:  \n",
    "    print(f\"Sourcepage: {result['sourcepage']}\")  \n",
    "    print(f\"Score: {result['@search.score']}\")  \n",
    "    print(f\"Content: {result['content']}\")  "
   ]
  },
  {
   "cell_type": "markdown",
   "id": "b8ba6166",
   "metadata": {},
   "source": [
    "# Hybrid Search"
   ]
  },
  {
   "cell_type": "code",
   "execution_count": null,
   "id": "08a5df4a",
   "metadata": {},
   "outputs": [],
   "source": [
    "query = \"１３人の合議制に含まれるメンバー一覧\"  \n",
    "  \n",
    "search_client = SearchClient(service_endpoint, index_name, credential=credential)\n",
    "vector = Vector(value=generate_embeddings(query), k=3, fields=\"contentVector\")\n",
    "\n",
    "results = search_client.search(  \n",
    "    search_text=query,  \n",
    "    vectors=[vector],\n",
    "    select=[\"sourcepage\", \"content\"],\n",
    "    top=3\n",
    ")  \n",
    "\n",
    "for result in results:  \n",
    "    print(f\"Sourcepage: {result['sourcepage']}\")  \n",
    "    print(f\"Score: {result['@search.score']}\")  \n",
    "    print(f\"Content: {result['content']}\")  "
   ]
  },
  {
   "cell_type": "markdown",
   "id": "9f0ab0ae",
   "metadata": {},
   "source": [
    "# Semantic Hybrid Search(Hybrid + Semantic Ranker)"
   ]
  },
  {
   "cell_type": "code",
   "execution_count": null,
   "id": "097d64c7",
   "metadata": {
    "scrolled": false
   },
   "outputs": [],
   "source": [
    "query = \"１３人の合議制に含まれるメンバー一覧\"  \n",
    "  \n",
    "search_client = SearchClient(service_endpoint, index_name, credential=credential)\n",
    "vector = Vector(value=generate_embeddings(query), k=3, fields=\"contentVector\")\n",
    "\n",
    "results = search_client.search(  \n",
    "    search_text=query,  \n",
    "    vectors=[vector],\n",
    "    select=[\"sourcepage\", \"content\"],\n",
    "    query_type=\"semantic\", query_language=\"ja-jp\", semantic_configuration_name='config1', query_caption=\"extractive\", query_answer=\"extractive\",\n",
    "    top=3\n",
    ")  \n",
    "\n",
    "semantic_answers = results.get_answers()\n",
    "for answer in semantic_answers:\n",
    "    if answer.highlights:\n",
    "        print(f\"Semantic Answer: {answer.highlights}\")\n",
    "    else:\n",
    "        print(f\"Semantic Answer: {answer.text}\")\n",
    "    print(f\"Semantic Answer Score: {answer.score}\\n\")\n",
    "\n",
    "for result in results:  \n",
    "    print(f\"Sourcepage: {result['sourcepage']}\")  \n",
    "    print(f\"Score: {result['@search.score']}\")  \n",
    "    print(f\"Content: {result['content']}\")  \n",
    "   \n",
    "    captions = result[\"@search.captions\"]\n",
    "    if captions:\n",
    "        caption = captions[0]\n",
    "        if caption.highlights:\n",
    "            print(f\"Caption: {caption.highlights}\\n\")\n",
    "        else:\n",
    "            print(f\"Caption: {caption.text}\\n\")"
   ]
  }
 ],
 "metadata": {
  "kernelspec": {
   "display_name": "Python 3 (ipykernel)",
   "language": "python",
   "name": "python3"
  },
  "language_info": {
   "codemirror_mode": {
    "name": "ipython",
    "version": 3
   },
   "file_extension": ".py",
   "mimetype": "text/x-python",
   "name": "python",
   "nbconvert_exporter": "python",
   "pygments_lexer": "ipython3",
   "version": "3.10.9"
  }
 },
 "nbformat": 4,
 "nbformat_minor": 5
}
