{
 "cells": [
  {
   "cell_type": "markdown",
   "id": "20b78b8c",
   "metadata": {},
   "source": [
    "# 日本語データセットをチャンク分割し、Embeddings に変換して Azure Cognitive Search のベクトルインデックスに登録するサンプル"
   ]
  },
  {
   "cell_type": "markdown",
   "id": "6866affd",
   "metadata": {},
   "source": [
    "Azure Cognitive Search のベクトル検索を行うために、以下を行うサンプルです。\n",
    "1. 戦国武将の Wikipedia ページをチャンクに分割\n",
    "1. チャンクごとに Embeddings を生成\n",
    "1. Azure Cognitive Search のベクトルインデックスに登録\n",
    " "
   ]
  },
  {
   "cell_type": "markdown",
   "id": "c16a47da",
   "metadata": {},
   "source": [
    "# 1. 日本語データセットをチャンクに分割"
   ]
  },
  {
   "cell_type": "code",
   "execution_count": null,
   "id": "321fe845",
   "metadata": {},
   "outputs": [],
   "source": [
    "!pip install openai tiktoken langchain"
   ]
  },
  {
   "cell_type": "code",
   "execution_count": null,
   "id": "87496f9b",
   "metadata": {},
   "outputs": [],
   "source": [
    "import warnings\n",
    "import tiktoken\n",
    "import pandas as pd\n",
    "import glob\n",
    "import os\n",
    "import base64\n",
    "import re\n",
    "\n",
    "from langchain.text_splitter import RecursiveCharacterTextSplitter\n",
    "warnings.filterwarnings('ignore')"
   ]
  },
  {
   "cell_type": "code",
   "execution_count": null,
   "id": "52b150fb",
   "metadata": {},
   "outputs": [],
   "source": [
    "#!pip install pyarrow\n",
    "#import pyarrow.parquet as pq"
   ]
  },
  {
   "cell_type": "markdown",
   "id": "782f8a2c",
   "metadata": {},
   "source": [
    "## 単一ファイルの動作確認"
   ]
  },
  {
   "cell_type": "code",
   "execution_count": null,
   "id": "0a327e7b",
   "metadata": {},
   "outputs": [],
   "source": [
    "f = open('./data/源頼朝.txt', 'r', encoding='UTF-8')\n",
    "\n",
    "data = f.read()\n",
    "print(data)\n",
    "\n",
    "f.close()"
   ]
  },
  {
   "cell_type": "markdown",
   "id": "9fe30d3e",
   "metadata": {},
   "source": [
    "## ドキュメントのトークン数を計測\n",
    "OpenAI モデルのトークン数を正確に数えるためには、[tiktoken](https://github.com/openai/tiktoken) ライブラリを利用します。モデルごとに利用するトークナイザーが異なるため詳しくは[こちら](https://github.com/openai/openai-cookbook/blob/main/examples/How_to_count_tokens_with_tiktoken.ipynb)を参照してください。"
   ]
  },
  {
   "cell_type": "code",
   "execution_count": null,
   "id": "637dba39",
   "metadata": {},
   "outputs": [],
   "source": [
    "enc = tiktoken.get_encoding(\"cl100k_base\")\n",
    "print(len(enc.encode(data)))"
   ]
  },
  {
   "cell_type": "markdown",
   "id": "6b401d36",
   "metadata": {},
   "source": [
    "## テキストをチャンクに分割\n",
    "通常 1 つのドキュメントに含まれるトークン数は 1 度のコンテキストに指定できる最大トークン数をゆうに超えます。今回はドキュメントの文を指定したトークン数以下のチャンクに分割します。\n",
    "\n",
    "- テキストの分割方法<br>\n",
    "RecursiveCharacterTextSplitter はチャンクが十分に小さくなるまで、順番に分割します。\n",
    "- チャンクサイズの測定方法<br>\n",
    "tiktoken ライブラリのトークナイザーを使用してトークン数を正確に測定します。"
   ]
  },
  {
   "cell_type": "code",
   "execution_count": null,
   "id": "0c11ad4b",
   "metadata": {},
   "outputs": [],
   "source": [
    "text_splitter = RecursiveCharacterTextSplitter.from_tiktoken_encoder(\n",
    "    encoding_name='cl100k_base',\n",
    "    chunk_size=1000, \n",
    "    chunk_overlap=50\n",
    ")"
   ]
  },
  {
   "cell_type": "code",
   "execution_count": null,
   "id": "f1d22517",
   "metadata": {},
   "outputs": [],
   "source": [
    "chunk = text_splitter.split_text(data)\n",
    "chunk"
   ]
  },
  {
   "cell_type": "code",
   "execution_count": null,
   "id": "bd3dff18",
   "metadata": {},
   "outputs": [],
   "source": [
    "#チャンク数\n",
    "len(chunk)"
   ]
  },
  {
   "cell_type": "code",
   "execution_count": null,
   "id": "31713585",
   "metadata": {
    "scrolled": true
   },
   "outputs": [],
   "source": [
    "#チャンク[0]の中身\n",
    "chunk[0]"
   ]
  },
  {
   "cell_type": "code",
   "execution_count": null,
   "id": "5c7b255f",
   "metadata": {},
   "outputs": [],
   "source": [
    "#トークン数\n",
    "print(len(enc.encode(chunk[0])))"
   ]
  },
  {
   "cell_type": "code",
   "execution_count": null,
   "id": "84c74419",
   "metadata": {
    "scrolled": true
   },
   "outputs": [],
   "source": [
    "#チャンクごとのトークン数確認\n",
    "tokencounter = 0\n",
    "for i, text in enumerate(chunk):\n",
    "    print(i,len(enc.encode(text)))\n",
    "    tokencounter = tokencounter + len(enc.encode(text))\n",
    "\n",
    "print(tokencounter)"
   ]
  },
  {
   "cell_type": "markdown",
   "id": "fc2a22f5",
   "metadata": {},
   "source": [
    "## ファイル一括処理\n",
    "ドキュメントをチャンクに分割する方法を確認したら、実際に複数のデータセットを一括処理でチャンクごとのテキストファイルに分割します。"
   ]
  },
  {
   "cell_type": "code",
   "execution_count": null,
   "id": "f768906d",
   "metadata": {},
   "outputs": [],
   "source": [
    "output_dir_path = './data/output'\n",
    "os.mkdir(output_dir_path)"
   ]
  },
  {
   "cell_type": "code",
   "execution_count": null,
   "id": "382a62c7",
   "metadata": {},
   "outputs": [],
   "source": [
    "enc = tiktoken.get_encoding(\"cl100k_base\")\n",
    "text_splitter = RecursiveCharacterTextSplitter.from_tiktoken_encoder(\n",
    "    encoding_name='cl100k_base',\n",
    "    chunk_size=1000, \n",
    "    chunk_overlap=50\n",
    ")\n",
    "\n",
    "#テキストファイルを読み込んで、指定のトークン数のチャンクファイルに分割します。\n",
    "def splitChunkFile(filepath):\n",
    "    f = open(filepath, 'r', encoding='UTF-8')\n",
    "    data = f.read()\n",
    "    chunk = text_splitter.split_text(data)\n",
    "\n",
    "    #chunk単位でループ\n",
    "    for i, chunkedtext in enumerate(chunk):\n",
    "        \n",
    "        dirname = os.path.dirname(filepath)\n",
    "        basename = os.path.splitext(os.path.basename(filepath))[0]\n",
    "        outputfilepath = dirname + \"/output/\" + basename + \"-\" + str(i) + \".txt\"\n",
    "        \n",
    "        print(i, len(enc.encode(chunkedtext)), outputfilepath)\n",
    "        with open(outputfilepath, 'w', encoding='UTF-8') as fo:\n",
    "            fo.write(chunkedtext)\n",
    "\n",
    "        fo.close()\n",
    "    f.close()\n",
    "   \n",
    "    return"
   ]
  },
  {
   "cell_type": "code",
   "execution_count": null,
   "id": "4c06df6f",
   "metadata": {},
   "outputs": [],
   "source": [
    "for p in glob.glob('./data/*.txt'):\n",
    "    splitChunkFile(p)"
   ]
  },
  {
   "cell_type": "markdown",
   "id": "48a83b9d",
   "metadata": {},
   "source": [
    "生成されたテキストファイルを Azure Blob Storage にアップロードして Azure Cognitive Search に登録することもできます。"
   ]
  },
  {
   "cell_type": "markdown",
   "id": "48506b26",
   "metadata": {},
   "source": [
    "# 2. 必要なデータフレームを作成"
   ]
  },
  {
   "cell_type": "code",
   "execution_count": null,
   "id": "7db01c09",
   "metadata": {},
   "outputs": [],
   "source": [
    "df = pd.DataFrame([], columns=['id', 'content', 'sourcepage'])"
   ]
  },
  {
   "cell_type": "code",
   "execution_count": null,
   "id": "bae6c292",
   "metadata": {},
   "outputs": [],
   "source": [
    "df"
   ]
  },
  {
   "cell_type": "code",
   "execution_count": null,
   "id": "79b8d68d",
   "metadata": {},
   "outputs": [],
   "source": [
    "def makeDataFrame(filepath):\n",
    "    f = open(filepath, 'r', encoding='UTF-8')\n",
    "    data = f.read()\n",
    "    content = \" \".join(data.splitlines())\n",
    "    \n",
    "    filename = os.path.basename(filepath)\n",
    "    enc_id = base64.urlsafe_b64encode(filename.encode())\n",
    "    \n",
    "    return {'id': enc_id.decode(), 'content': content, 'sourcepage': filename}"
   ]
  },
  {
   "cell_type": "markdown",
   "id": "e5c23071",
   "metadata": {},
   "source": [
    "チャンク分割済みテキストファイルを DataFrame の行としてロード"
   ]
  },
  {
   "cell_type": "code",
   "execution_count": null,
   "id": "0305e681",
   "metadata": {
    "scrolled": true
   },
   "outputs": [],
   "source": [
    "import glob\n",
    "for p in glob.glob('./data/output/*.txt'):\n",
    "    result = makeDataFrame(p)\n",
    "    df = df.append(result, ignore_index=True)\n"
   ]
  },
  {
   "cell_type": "code",
   "execution_count": null,
   "id": "2beb3eac",
   "metadata": {},
   "outputs": [],
   "source": [
    "df"
   ]
  },
  {
   "cell_type": "markdown",
   "id": "44c671b6",
   "metadata": {},
   "source": [
    "## データのクリーニング\n",
    "冗長な空白を削除したり句読点をクリーンアップしたりして軽いデータ クリーニングを行い、トークン化の準備をします。"
   ]
  },
  {
   "cell_type": "code",
   "execution_count": null,
   "id": "1b946ee8",
   "metadata": {},
   "outputs": [],
   "source": [
    "pd.options.mode.chained_assignment = None #https://pandas.pydata.org/pandas-docs/stable/user_guide/indexing.html#evaluation-order-matters\n",
    "\n",
    "# s is input text\n",
    "def normalize_text(s, sep_token = \" \\n \"):\n",
    "    s = re.sub(r'\\s+',  ' ', s).strip()\n",
    "    s = re.sub(r\". ,\",\"\",s)\n",
    "    # remove all instances of multiple spaces\n",
    "    s = s.replace(\"..\",\".\")\n",
    "    s = s.replace(\". .\",\".\")\n",
    "    s = s.replace(\"\\n\", \"\")\n",
    "    s = s.strip()\n",
    "    \n",
    "    return s\n",
    "\n",
    "df['content']= df[\"content\"].apply(lambda x : normalize_text(x))"
   ]
  },
  {
   "cell_type": "code",
   "execution_count": null,
   "id": "ed1da113",
   "metadata": {
    "scrolled": true
   },
   "outputs": [],
   "source": [
    "df.iloc[0][\"content\"]"
   ]
  },
  {
   "cell_type": "markdown",
   "id": "161cea6b",
   "metadata": {},
   "source": [
    "## ライブラリのインポートとモデルの一覧表示\n",
    "[こちら](https://learn.microsoft.com/azure/cognitive-services/openai/tutorials/embeddings?tabs=command-line#retrieve-key-and-endpoint)を参照して Azure OpenAI Service のキーとエンドポイントの情報を取得します。"
   ]
  },
  {
   "cell_type": "code",
   "execution_count": null,
   "id": "8c8ecf15",
   "metadata": {
    "scrolled": true
   },
   "outputs": [],
   "source": [
    "import openai\n",
    "from openai.embeddings_utils import get_embedding, cosine_similarity\n",
    "import requests\n",
    "\n",
    "API_KEY = \"<YOUR_AZURE_OPENAI_KEY>\"\n",
    "RESOURCE_ENDPOINT = \"https://<YOUR_AZURE_OPENAI_SERVICE>.openai.azure.com/\"\n",
    "\n",
    "openai.api_type = \"azure\"\n",
    "openai.api_key = API_KEY\n",
    "openai.api_base = RESOURCE_ENDPOINT\n",
    "openai.api_version = \"2023-05-15\"\n",
    "\n",
    "url = openai.api_base + \"/openai/deployments?api-version=2022-12-01\"\n",
    "r = requests.get(url, headers={\"api-key\": API_KEY})\n",
    "\n",
    "print(r.text)\n"
   ]
  },
  {
   "cell_type": "markdown",
   "id": "47411c9b",
   "metadata": {},
   "source": [
    "このコマンドの出力は、デプロイしたモデルの数と種類によって異なります。 この場合は、**text-embedding-ada-002** のエントリがあることを確認する必要があります。 このモデルがない場合は、先に進む前にモデルをリソースにデプロイする必要があります。"
   ]
  },
  {
   "cell_type": "markdown",
   "id": "749712f8",
   "metadata": {},
   "source": [
    "## Embeddings を取得"
   ]
  },
  {
   "cell_type": "code",
   "execution_count": null,
   "id": "2716f8be",
   "metadata": {},
   "outputs": [],
   "source": [
    "TEXT_SEARCH_DOC_MODEL   = 'text-embedding-ada-002'\n",
    "ITEM_KEYWORD_EMBEDDING_FIELD = 'contentVector'"
   ]
  },
  {
   "cell_type": "markdown",
   "id": "acdd9689",
   "metadata": {},
   "source": [
    "### 全件の取得には数分かかります"
   ]
  },
  {
   "cell_type": "code",
   "execution_count": null,
   "id": "c29388cb",
   "metadata": {},
   "outputs": [],
   "source": [
    "%%time\n",
    "df[ITEM_KEYWORD_EMBEDDING_FIELD] = df[\"content\"].apply(lambda x : get_embedding(x, engine = TEXT_SEARCH_DOC_MODEL))"
   ]
  },
  {
   "cell_type": "code",
   "execution_count": null,
   "id": "6b356348",
   "metadata": {},
   "outputs": [],
   "source": [
    "df"
   ]
  },
  {
   "cell_type": "markdown",
   "id": "2496efe8",
   "metadata": {},
   "source": [
    "## 参考 Parquet ファイルで保存&ロード\n",
    "データの型の情報もファイルに保存したい人向け"
   ]
  },
  {
   "cell_type": "code",
   "execution_count": null,
   "id": "3667eb6a",
   "metadata": {},
   "outputs": [],
   "source": [
    "#df.to_parquet(\"./busho_dataset_embedding_ada.parquet\")"
   ]
  },
  {
   "cell_type": "code",
   "execution_count": null,
   "id": "e44cd6e6",
   "metadata": {},
   "outputs": [],
   "source": [
    "#import pyarrow.parquet as pq\n",
    "\n",
    "#parqdf = pq.read_table(\"./busho_dataset_embedding_ada.parquet\").to_pandas(integer_object_nulls=True)\n",
    "#parqdf.head()"
   ]
  },
  {
   "cell_type": "markdown",
   "id": "58ffd947",
   "metadata": {},
   "source": [
    "## DataFrame を JSON ファイルで保存"
   ]
  },
  {
   "cell_type": "code",
   "execution_count": null,
   "id": "6f62c070",
   "metadata": {},
   "outputs": [],
   "source": [
    "df.to_json(f\"busho_dataset_embedding_ada.json\", orient='records', force_ascii=False)"
   ]
  },
  {
   "cell_type": "markdown",
   "id": "ffea43df",
   "metadata": {},
   "source": [
    "# 3. Azure Cognitive Search に登録"
   ]
  },
  {
   "cell_type": "markdown",
   "id": "7035942c",
   "metadata": {},
   "source": [
    "[こちら](https://learn.microsoft.com/azure/search/search-get-started-rest#copy-a-key-and-url)を参照して Azure Cognitive Search に接続するためのキーを取得します。"
   ]
  },
  {
   "cell_type": "code",
   "execution_count": null,
   "id": "85588d87",
   "metadata": {},
   "outputs": [],
   "source": [
    "import requests\n",
    "import json as JSON\n",
    "\n",
    "# Azure Cognitive Search のインデックス名と API キー\n",
    "search_service_name = \"<YOUR_AZURE_COGNITIVE_SEARCH_SERVICE>\"\n",
    "index_name = \"<YOUR_AZURE_COGNITIVE_SEARCH_INDEX>\"\n",
    "api_version = \"2023-07-01-Preview\"\n",
    "api_key = \"<YOUR_AZURE_COGNITIVE_SEARCH_APIKEY>\"\n",
    "\n",
    "# インデックス作成の REST API の URL\n",
    "createindex_url = \"https://{0}.search.windows.net/indexes/{1}?api-version={2}\".format(search_service_name, index_name, api_version)\n",
    "\n",
    "# データをアップロードするための REST API の URL\n",
    "base_url = \"https://{0}.search.windows.net/indexes/{1}/docs/index?api-version={2}\".format(search_service_name, index_name, api_version)"
   ]
  },
  {
   "cell_type": "markdown",
   "id": "78ce9427",
   "metadata": {},
   "source": [
    "## ベクトルインデックスの作成"
   ]
  },
  {
   "cell_type": "code",
   "execution_count": null,
   "id": "7f5c21fe",
   "metadata": {},
   "outputs": [],
   "source": [
    "url = createindex_url\n",
    "\n",
    "with open(\"./create_vector_index_with_semantic.json\", 'r', encoding=\"utf-8\") as f:\n",
    "    jsondata = JSON.load(f)\n",
    "    response = requests.put(url, headers={\"Content-Type\": \"application/json\", \"api-key\": api_key}, json=jsondata)\n",
    "    print(response.status_code, response.text)"
   ]
  },
  {
   "cell_type": "markdown",
   "id": "f6ae98ca",
   "metadata": {},
   "source": [
    "## ベクトルインデックスに JSON の内容を登録"
   ]
  },
  {
   "cell_type": "code",
   "execution_count": null,
   "id": "3f986158",
   "metadata": {},
   "outputs": [],
   "source": [
    "files = glob.glob('./busho_dataset_embedding_ada.json')\n",
    "\n",
    "for file in files:\n",
    "    print(file)\n",
    "    with open(file, 'r', encoding=\"utf-8\") as f:\n",
    "        data = JSON.load(f)\n",
    "    \n",
    "        url = base_url \n",
    "        jsondata = {\n",
    "            \"value\": data\n",
    "        }\n",
    "        response = requests.post(url, headers={\"Content-Type\": \"application/json\", \"api-key\": api_key}, json=jsondata)\n",
    "        print(response.status_code)\n",
    "        #print(response.text)\n",
    "        "
   ]
  },
  {
   "cell_type": "code",
   "execution_count": null,
   "id": "52496a77",
   "metadata": {},
   "outputs": [],
   "source": [
    "print(response.text)"
   ]
  },
  {
   "cell_type": "code",
   "execution_count": null,
   "id": "97112b20",
   "metadata": {},
   "outputs": [],
   "source": []
  }
 ],
 "metadata": {
  "kernelspec": {
   "display_name": "Python 3 (ipykernel)",
   "language": "python",
   "name": "python3"
  },
  "language_info": {
   "codemirror_mode": {
    "name": "ipython",
    "version": 3
   },
   "file_extension": ".py",
   "mimetype": "text/x-python",
   "name": "python",
   "nbconvert_exporter": "python",
   "pygments_lexer": "ipython3",
   "version": "3.10.9"
  }
 },
 "nbformat": 4,
 "nbformat_minor": 5
}
